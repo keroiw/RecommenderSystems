{
 "cells": [
  {
   "cell_type": "markdown",
   "metadata": {},
   "source": [
    "# Introduction"
   ]
  },
  {
   "cell_type": "code",
   "execution_count": 1,
   "metadata": {},
   "outputs": [],
   "source": [
    "import matplotlib.pyplot as plt\n",
    "import numpy as np\n",
    "import os\n",
    "import pandas as pd\n",
    "import scipy\n",
    "import seaborn as sns\n",
    "import surprise\n",
    "\n",
    "from sklearn import preprocessing\n",
    "from sklearn.decomposition import NMF, TruncatedSVD, KernelPCA\n",
    "from sklearn.metrics import mean_squared_error\n",
    "from sklearn.model_selection import train_test_split\n",
    "\n",
    "from surprise import AlgoBase\n",
    "from surprise import SVD\n",
    "from surprise import Dataset, Reader\n",
    "from surprise.model_selection import cross_validate, train_test_split, RandomizedSearchCV, split"
   ]
  },
  {
   "cell_type": "markdown",
   "metadata": {},
   "source": [
    "The main aim of the project is to present some applications of dimensionality reduction and optimization techniques to recommender systems. The dataset was downloaded from https://grouplens.org/datasets/movielens/ (ml-latest-small.zip) and it contains infomation about ratings of 600 users on 9000 movies. Let's start with a quick glance at the data:"
   ]
  },
  {
   "cell_type": "code",
   "execution_count": 2,
   "metadata": {},
   "outputs": [
    {
     "data": {
      "text/html": [
       "<div>\n",
       "<style scoped>\n",
       "    .dataframe tbody tr th:only-of-type {\n",
       "        vertical-align: middle;\n",
       "    }\n",
       "\n",
       "    .dataframe tbody tr th {\n",
       "        vertical-align: top;\n",
       "    }\n",
       "\n",
       "    .dataframe thead th {\n",
       "        text-align: right;\n",
       "    }\n",
       "</style>\n",
       "<table border=\"1\" class=\"dataframe\">\n",
       "  <thead>\n",
       "    <tr style=\"text-align: right;\">\n",
       "      <th></th>\n",
       "      <th>userId</th>\n",
       "      <th>movieId</th>\n",
       "      <th>rating</th>\n",
       "    </tr>\n",
       "  </thead>\n",
       "  <tbody>\n",
       "    <tr>\n",
       "      <th>0</th>\n",
       "      <td>1</td>\n",
       "      <td>1</td>\n",
       "      <td>4.0</td>\n",
       "    </tr>\n",
       "    <tr>\n",
       "      <th>1</th>\n",
       "      <td>1</td>\n",
       "      <td>3</td>\n",
       "      <td>4.0</td>\n",
       "    </tr>\n",
       "    <tr>\n",
       "      <th>2</th>\n",
       "      <td>1</td>\n",
       "      <td>6</td>\n",
       "      <td>4.0</td>\n",
       "    </tr>\n",
       "    <tr>\n",
       "      <th>3</th>\n",
       "      <td>1</td>\n",
       "      <td>47</td>\n",
       "      <td>5.0</td>\n",
       "    </tr>\n",
       "    <tr>\n",
       "      <th>4</th>\n",
       "      <td>1</td>\n",
       "      <td>50</td>\n",
       "      <td>5.0</td>\n",
       "    </tr>\n",
       "  </tbody>\n",
       "</table>\n",
       "</div>"
      ],
      "text/plain": [
       "   userId  movieId  rating\n",
       "0       1        1     4.0\n",
       "1       1        3     4.0\n",
       "2       1        6     4.0\n",
       "3       1       47     5.0\n",
       "4       1       50     5.0"
      ]
     },
     "execution_count": 2,
     "metadata": {},
     "output_type": "execute_result"
    }
   ],
   "source": [
    "ratings_path = os.path.join(os.getcwd(), os.path.join('ml-latest-small', 'ratings.csv'))\n",
    "data = pd.read_csv(ratings_path).drop([\"timestamp\"], axis=1)\n",
    "data.head()"
   ]
  },
  {
   "cell_type": "markdown",
   "metadata": {},
   "source": [
    "Each row contains information about userId, movieId = id of the movie that was rated and rating itself. Event the first 5 rows of the data provide important insight: user 1 didn't rate some movies. This observation can be obviously extended to other users as we rather not expect that there is a person who rate all of the 9000 movies. What if we want to recommend a movie to user 1? Obviously we want to make the best possible recommendation, hence we are looking for movies that were not rated yet and match user 1 preferences. The simplest strategy assume that we have ratings of all the unrated movies and simply select movie with the highest rating. In order make recommendation we need to fill the gaps in ratings and this is the main role of recommender systems. "
   ]
  },
  {
   "cell_type": "markdown",
   "metadata": {},
   "source": [
    "# Exploratory data analysis"
   ]
  },
  {
   "cell_type": "markdown",
   "metadata": {},
   "source": [
    "In some situations it will be easier to work with the data in Users $\\times$ Movies format. This is so called utility matrix of recommendation system. There is one additionall step here. Algorithms of recommender system needs so called training data in order to properly recommend the items of interest. Training data contains ratings that we already know, but in the end we want recommendation for unrated movies. It turns out that trained algorithm work well for training data but it may not generalize well. Solution that is commonly used is based on splitting the data into training and test (unseen) set that will employed when evaluation of the sistem is carried. In this case train 10: test 1 ratio was proposed. "
   ]
  },
  {
   "cell_type": "code",
   "execution_count": 3,
   "metadata": {},
   "outputs": [],
   "source": [
    "def split_dataset(X, test_frac=0.1):\n",
    "    test_set_size = int(X.shape[0]*test_frac)\n",
    "    test_idx = np.random.choice(X.index, size=test_set_size, replace=False)\n",
    "    test_set = X.loc[test_idx, :]\n",
    "    train_set = X.copy()\n",
    "    train_set.loc[test_idx, \"rating\"] = np.NaN\n",
    "    return train_set, test_set.sort_values(by=[\"userId\", \"movieId\"]), test_idx\n",
    "\n",
    "X_train, X_test, test_idx = split_dataset(data)\n",
    "util_matrix = X_train.pivot(index='userId', columns='movieId')"
   ]
  },
  {
   "cell_type": "markdown",
   "metadata": {},
   "source": [
    "It was already mentioned that there are missing ratings, but the problem is more serious than it may be concluded from the introduction. In the next step we will look at the dataset as a matrix (an image) and color all missing ratings to dark shades and non missing to some colors."
   ]
  },
  {
   "cell_type": "code",
   "execution_count": 4,
   "metadata": {},
   "outputs": [
    {
     "data": {
      "image/png": "[encoded data removed]",
      "text/plain": [
       "<Figure size 432x432 with 1 Axes>"
      ]
     },
     "metadata": {},
     "output_type": "display_data"
    }
   ],
   "source": [
    "fig, ax = plt.subplots(1, 1, figsize = (6, 6))\n",
    "\n",
    "cmap = sns.color_palette(\"YlGnBu\", len(data[\"rating\"].unique()))\n",
    "sns.heatmap(util_matrix.fillna(-1), \n",
    "            yticklabels=False, \n",
    "            xticklabels=False, \n",
    "            #cmap=cmap,\n",
    "            cbar=False, \n",
    "            ax=ax)\n",
    "\n",
    "ax.set_title('Visualisation of the missing ratings')\n",
    "ax.set_xlabel('Movies')\n",
    "ax.set_ylabel('Users');"
   ]
  },
  {
   "cell_type": "markdown",
   "metadata": {},
   "source": [
    "Now it can be visually observed that the vast majority of votes are missing. Let's make it more more precise:"
   ]
  },
  {
   "cell_type": "code",
   "execution_count": 5,
   "metadata": {},
   "outputs": [
    {
     "data": {
      "text/plain": [
       "n. missing        5840887.000\n",
       "n. non-missing      90753.000\n",
       "missing/all             0.985\n",
       "dtype: float64"
      ]
     },
     "execution_count": 5,
     "metadata": {},
     "output_type": "execute_result"
    }
   ],
   "source": [
    "n_missing = np.sum(util_matrix.isna().values)\n",
    "n_non_missing = util_matrix.size - n_missing\n",
    "pd.Series([n_missing, n_non_missing, round(n_missing / util_matrix.size, 3)], index=['n. missing', 'n. non-missing', 'missing/all'])"
   ]
  },
  {
   "cell_type": "markdown",
   "metadata": {},
   "source": [
    "## Recommendations"
   ]
  },
  {
   "cell_type": "markdown",
   "metadata": {},
   "source": [
    "Matrix decomposition algorithms require imputation of missing entries in the utlity matrix. One may propose to fill the missing values with zeroes. It's not good idea because it will be the same information as: all users rate unrated movies to zero. Another idea is to fill missing values with mean over all ratings. The result of such approach is sometimes called dummy classifier and it will be treated as a baseline for other algorithms. \n",
    "\n",
    "**Side note**: Before testing on test set, proposed algorithms are evaluated with cross-validation. This method gives rough estimator of train test rse. Processing steps can be summarized as follows:\n",
    "1. Divide the train dataset into $k$ mutually exclusive sets $F_k$\n",
    "2. For $i \\in \\{1, ..., k\\}$:\n",
    "    1. Train algorithm on $F_{j \\neq i}$\n",
    "    2. Evaluate algorithm on $F_i$ as it was train set\n",
    "5. Summarize obtained results"
   ]
  },
  {
   "cell_type": "markdown",
   "metadata": {},
   "source": [
    "### Dummy recommender"
   ]
  },
  {
   "cell_type": "code",
   "execution_count": 6,
   "metadata": {},
   "outputs": [
    {
     "name": "stdout",
     "output_type": "stream",
     "text": [
      "Evaluating RMSE, MAE of algorithm DummyRecommender on 3 split(s).\n",
      "\n",
      "                  Fold 1  Fold 2  Fold 3  Mean    Std     \n",
      "RMSE (testset)    1.0454  1.0447  1.0467  1.0456  0.0008  \n",
      "MAE (testset)     0.8290  0.8288  0.8285  0.8288  0.0002  \n",
      "Fit time          0.02    0.04    0.04    0.04    0.01    \n",
      "Test time         0.03    0.03    0.03    0.03    0.00    \n"
     ]
    }
   ],
   "source": [
    "reader = Reader()\n",
    "data_surp = Dataset.load_from_df(data, reader)\n",
    "\n",
    "class DummyRecommender(AlgoBase):\n",
    "\n",
    "    def __init__(self):\n",
    "        AlgoBase.__init__(self)\n",
    "\n",
    "    def fit(self, trainset):\n",
    "        AlgoBase.fit(self, trainset)\n",
    "        self.global_mean = trainset.global_mean\n",
    "        return self\n",
    "\n",
    "    def estimate(self, u, i):\n",
    "        return self.global_mean\n",
    "    \n",
    "cv = split.ShuffleSplit(n_splits=3, test_size=0.1, shuffle=True)\n",
    "dummy_cv = cross_validate(DummyRecommender(), data_surp, verbose=True, cv=cv)\n",
    "dummy_rse = dummy_cv['test_rmse'].mean()"
   ]
  },
  {
   "cell_type": "markdown",
   "metadata": {},
   "source": [
    "It can be concluded that mean RSE is around 1.05. "
   ]
  },
  {
   "cell_type": "markdown",
   "metadata": {},
   "source": [
    "### Mean-adjusted recommender"
   ]
  },
  {
   "cell_type": "markdown",
   "metadata": {},
   "source": [
    "If we think a little about replacing missing values with mean it turns out that this approach doesn't take under considaration two simple situations:\n",
    "1. Some movies are poor hence they have low rating in general\n",
    "2. Some users are strict raters hence they tend to give low ratings\n",
    "\n",
    "These issues might be approached with user ratings baseline and movie ratings baseline. \n",
    "$$\n",
    "r_{x,i} = \\mu + b_x + b_i\n",
    "$$\n",
    "\n",
    "* $r_{x,i}$ - rating of user x on movie i\n",
    "* $\\mu$ - mean of all ratings\n",
    "* $b_x = \\text{avg rating of user x} - \\mu$\n",
    "* $b_i = \\text{avg rating of movie i} - \\mu$"
   ]
  },
  {
   "cell_type": "code",
   "execution_count": 8,
   "metadata": {},
   "outputs": [
    {
     "name": "stdout",
     "output_type": "stream",
     "text": [
      "Evaluating RMSE, MAE of algorithm MeanAdjustedRecommender on 3 split(s).\n",
      "\n",
      "                  Fold 1  Fold 2  Fold 3  Mean    Std     \n",
      "RMSE (testset)    0.9071  0.9079  0.9024  0.9058  0.0024  \n",
      "MAE (testset)     0.6951  0.6921  0.6879  0.6917  0.0030  \n",
      "Fit time          6.53    6.40    6.39    6.44    0.06    \n",
      "Test time         0.59    0.58    0.65    0.61    0.03    \n"
     ]
    }
   ],
   "source": [
    "def adjust_to_mean(df, util_matrix, col):\n",
    "    group_means = df.groupby(col).aggregate(np.mean)\n",
    "    util_copy = util_matrix.copy()\n",
    "    for col in util_copy.columns:\n",
    "        util_copy.loc[:, col] = group_means.values.reshape(-1)\n",
    "    return util_copy\n",
    "\n",
    "class MeanAdjustedRecommender(AlgoBase):\n",
    "\n",
    "    def __init__(self):\n",
    "        AlgoBase.__init__(self)\n",
    "\n",
    "    def fit(self, trainset):\n",
    "        AlgoBase.fit(self, trainset)\n",
    "        self.global_mean = trainset.global_mean\n",
    "        \n",
    "        dataset = np.array([[uid, iid, r] for (uid, iid, r) in trainset.all_ratings()]).reshape((-1, 3))\n",
    "        dataset = pd.DataFrame(dataset, columns=['userId', 'movieId', 'rating'])\n",
    "        dataset = dataset.astype({'userId': 'int32', 'movieId':'int32'})\n",
    "        \n",
    "        util_matrix = dataset.pivot(index='userId', columns='movieId')\n",
    "        user_avg_ratings = adjust_to_mean(dataset.drop('movieId', axis=1), util_matrix, 'userId')\n",
    "        movie_avg_ratings = adjust_to_mean(dataset.drop('userId', axis=1), util_matrix.T, 'movieId').T\n",
    "        self.mean_adj_matrix =  user_avg_ratings + movie_avg_ratings - self.global_mean\n",
    "        \n",
    "        return self\n",
    "\n",
    "    def estimate(self, u, i):\n",
    "        if self.trainset.knows_user(u) and self.trainset.knows_item(i):\n",
    "            return self.mean_adj_matrix.iloc[u, i]\n",
    "        return self.global_mean\n",
    "    \n",
    "mean_adj_cv = cross_validate(MeanAdjustedRecommender(), data_surp, verbose=True, cv=cv)\n",
    "mean_adj_rse = mean_adj_cv['test_rmse'].mean()"
   ]
  },
  {
   "cell_type": "markdown",
   "metadata": {},
   "source": [
    "Predicted ratings rse dropped significantly from 1.0456 (in case of dummy classifier) to 0.9508."
   ]
  },
  {
   "cell_type": "code",
   "execution_count": null,
   "metadata": {},
   "outputs": [],
   "source": [
    "# mean_movie_rating = X_train[\"rating\"].mean()\n",
    "# dummy_prediction = np.full(X_test[\"rating\"].shape, mean_movie_rating)\n",
    "# dummy_rse = mean_squared_error(X_test[\"rating\"], dummy_prediction)\n",
    "# dummy_rse**(1/2)"
   ]
  },
  {
   "cell_type": "code",
   "execution_count": null,
   "metadata": {},
   "outputs": [],
   "source": [
    "# mean_adj_rse = get_rse(util_matrix_filled.stack().reset_index(), X_test)\n",
    "# mean_adj_rse"
   ]
  },
  {
   "cell_type": "markdown",
   "metadata": {},
   "source": [
    "### Matrix factorization"
   ]
  },
  {
   "cell_type": "markdown",
   "metadata": {},
   "source": [
    "So far 'training' and evaluatng the algorithms was nice and simple, because everything was handled via surprise library. In order to apply basic matrix factorization procedures some preprocessing must be performed as non-iterative (non SGD) methods are not supported. Presented algorithms are suitable only for populated utility matrix, hence some NaN-replacing strategy must be involved. I've decided to do it in mean-adjusted manner desribed above. \n",
    "\n",
    "**Side not**: Because matrix factorization recommender systems doesn't suit sklearn API well, it's somehow difficult to implement cross-validation. Due to this obstacle NMF, SVD and SVD1 were validated against test set solely. "
   ]
  },
  {
   "cell_type": "code",
   "execution_count": 9,
   "metadata": {},
   "outputs": [],
   "source": [
    "def get_rse(prediction, test_set):\n",
    "    ratings_comparison = prediction.merge(test_set, on=[\"userId\", \"movieId\"]).loc[:, [\"rating_x\", \"rating_y\"]]\n",
    "    error = mean_squared_error(ratings_comparison[\"rating_x\"], \n",
    "                               ratings_comparison[\"rating_y\"])\n",
    "    return error ** (1/2)\n",
    "\n",
    "def adjust_to_mean(df, util_matrix, col):\n",
    "    group_means = df.groupby(col).aggregate(np.mean)\n",
    "    util_copy = util_matrix.copy()\n",
    "    for col in util_copy.columns:\n",
    "        util_copy.loc[:, col] = group_means.values\n",
    "    return util_copy\n",
    " \n",
    "user_avg_ratings = adjust_to_mean(X_train.drop('movieId', axis=1), util_matrix, 'userId')\n",
    "movie_avg_ratings = adjust_to_mean(X_train.drop('userId', axis=1), util_matrix.T, 'movieId').T\n",
    "grand_mean = data.loc[:, \"rating\"].mean()\n",
    " \n",
    "mean_adjusted_ratings = user_avg_ratings + movie_avg_ratings - grand_mean\n",
    "util_matrix_filled = util_matrix.mask(np.isnan, other=mean_adjusted_ratings)\n",
    "util_matrix_filled = util_matrix_filled.mask(np.isnan, other=grand_mean)"
   ]
  },
  {
   "cell_type": "markdown",
   "metadata": {},
   "source": [
    "Overview of mean-adjusted utility matrix:"
   ]
  },
  {
   "cell_type": "code",
   "execution_count": 10,
   "metadata": {},
   "outputs": [
    {
     "data": {
      "text/html": [
       "<div>\n",
       "<style scoped>\n",
       "    .dataframe tbody tr th:only-of-type {\n",
       "        vertical-align: middle;\n",
       "    }\n",
       "\n",
       "    .dataframe tbody tr th {\n",
       "        vertical-align: top;\n",
       "    }\n",
       "\n",
       "    .dataframe thead tr th {\n",
       "        text-align: left;\n",
       "    }\n",
       "\n",
       "    .dataframe thead tr:last-of-type th {\n",
       "        text-align: right;\n",
       "    }\n",
       "</style>\n",
       "<table border=\"1\" class=\"dataframe\">\n",
       "  <thead>\n",
       "    <tr>\n",
       "      <th></th>\n",
       "      <th colspan=\"21\" halign=\"left\">rating</th>\n",
       "    </tr>\n",
       "    <tr>\n",
       "      <th>movieId</th>\n",
       "      <th>1</th>\n",
       "      <th>2</th>\n",
       "      <th>3</th>\n",
       "      <th>4</th>\n",
       "      <th>5</th>\n",
       "      <th>6</th>\n",
       "      <th>7</th>\n",
       "      <th>8</th>\n",
       "      <th>9</th>\n",
       "      <th>10</th>\n",
       "      <th>...</th>\n",
       "      <th>193565</th>\n",
       "      <th>193567</th>\n",
       "      <th>193571</th>\n",
       "      <th>193573</th>\n",
       "      <th>193579</th>\n",
       "      <th>193581</th>\n",
       "      <th>193583</th>\n",
       "      <th>193585</th>\n",
       "      <th>193587</th>\n",
       "      <th>193609</th>\n",
       "    </tr>\n",
       "    <tr>\n",
       "      <th>userId</th>\n",
       "      <th></th>\n",
       "      <th></th>\n",
       "      <th></th>\n",
       "      <th></th>\n",
       "      <th></th>\n",
       "      <th></th>\n",
       "      <th></th>\n",
       "      <th></th>\n",
       "      <th></th>\n",
       "      <th></th>\n",
       "      <th></th>\n",
       "      <th></th>\n",
       "      <th></th>\n",
       "      <th></th>\n",
       "      <th></th>\n",
       "      <th></th>\n",
       "      <th></th>\n",
       "      <th></th>\n",
       "      <th></th>\n",
       "      <th></th>\n",
       "      <th></th>\n",
       "    </tr>\n",
       "  </thead>\n",
       "  <tbody>\n",
       "    <tr>\n",
       "      <th>1</th>\n",
       "      <td>4.000000</td>\n",
       "      <td>4.259478</td>\n",
       "      <td>4.000000</td>\n",
       "      <td>3.207967</td>\n",
       "      <td>3.925292</td>\n",
       "      <td>4.000000</td>\n",
       "      <td>4.069574</td>\n",
       "      <td>3.707967</td>\n",
       "      <td>3.984157</td>\n",
       "      <td>4.363324</td>\n",
       "      <td>...</td>\n",
       "      <td>4.350824</td>\n",
       "      <td>3.850824</td>\n",
       "      <td>4.850824</td>\n",
       "      <td>4.850824</td>\n",
       "      <td>4.350824</td>\n",
       "      <td>4.850824</td>\n",
       "      <td>4.350824</td>\n",
       "      <td>3.501557</td>\n",
       "      <td>3.501557</td>\n",
       "      <td>4.850824</td>\n",
       "    </tr>\n",
       "    <tr>\n",
       "      <th>2</th>\n",
       "      <td>4.329131</td>\n",
       "      <td>3.851541</td>\n",
       "      <td>3.708194</td>\n",
       "      <td>2.800030</td>\n",
       "      <td>3.517356</td>\n",
       "      <td>4.388540</td>\n",
       "      <td>3.661637</td>\n",
       "      <td>3.300030</td>\n",
       "      <td>3.576221</td>\n",
       "      <td>3.955387</td>\n",
       "      <td>...</td>\n",
       "      <td>3.942887</td>\n",
       "      <td>3.442887</td>\n",
       "      <td>4.442887</td>\n",
       "      <td>4.442887</td>\n",
       "      <td>3.942887</td>\n",
       "      <td>4.442887</td>\n",
       "      <td>3.942887</td>\n",
       "      <td>3.501557</td>\n",
       "      <td>3.501557</td>\n",
       "      <td>4.442887</td>\n",
       "    </tr>\n",
       "    <tr>\n",
       "      <th>3</th>\n",
       "      <td>2.784686</td>\n",
       "      <td>2.307097</td>\n",
       "      <td>2.163749</td>\n",
       "      <td>1.255586</td>\n",
       "      <td>1.972911</td>\n",
       "      <td>2.844095</td>\n",
       "      <td>2.117193</td>\n",
       "      <td>1.755586</td>\n",
       "      <td>2.031776</td>\n",
       "      <td>2.410943</td>\n",
       "      <td>...</td>\n",
       "      <td>2.398443</td>\n",
       "      <td>1.898443</td>\n",
       "      <td>2.898443</td>\n",
       "      <td>2.898443</td>\n",
       "      <td>2.398443</td>\n",
       "      <td>2.898443</td>\n",
       "      <td>2.398443</td>\n",
       "      <td>3.501557</td>\n",
       "      <td>3.501557</td>\n",
       "      <td>2.898443</td>\n",
       "    </tr>\n",
       "    <tr>\n",
       "      <th>4</th>\n",
       "      <td>3.903205</td>\n",
       "      <td>3.425615</td>\n",
       "      <td>3.282268</td>\n",
       "      <td>2.374104</td>\n",
       "      <td>3.091430</td>\n",
       "      <td>3.962614</td>\n",
       "      <td>3.235712</td>\n",
       "      <td>2.874104</td>\n",
       "      <td>3.150295</td>\n",
       "      <td>3.529462</td>\n",
       "      <td>...</td>\n",
       "      <td>3.516962</td>\n",
       "      <td>3.016962</td>\n",
       "      <td>4.016962</td>\n",
       "      <td>4.016962</td>\n",
       "      <td>3.516962</td>\n",
       "      <td>4.016962</td>\n",
       "      <td>3.516962</td>\n",
       "      <td>3.501557</td>\n",
       "      <td>3.501557</td>\n",
       "      <td>4.016962</td>\n",
       "    </tr>\n",
       "    <tr>\n",
       "      <th>5</th>\n",
       "      <td>4.000000</td>\n",
       "      <td>3.538676</td>\n",
       "      <td>3.395328</td>\n",
       "      <td>2.487165</td>\n",
       "      <td>3.204490</td>\n",
       "      <td>4.075674</td>\n",
       "      <td>3.348772</td>\n",
       "      <td>2.987165</td>\n",
       "      <td>3.263355</td>\n",
       "      <td>3.642522</td>\n",
       "      <td>...</td>\n",
       "      <td>3.630022</td>\n",
       "      <td>3.130022</td>\n",
       "      <td>4.130022</td>\n",
       "      <td>4.130022</td>\n",
       "      <td>3.630022</td>\n",
       "      <td>4.130022</td>\n",
       "      <td>3.630022</td>\n",
       "      <td>3.501557</td>\n",
       "      <td>3.501557</td>\n",
       "      <td>4.130022</td>\n",
       "    </tr>\n",
       "  </tbody>\n",
       "</table>\n",
       "<p>5 rows × 9724 columns</p>\n",
       "</div>"
      ],
      "text/plain": [
       "           rating                                                              \\\n",
       "movieId    1         2         3         4         5         6         7        \n",
       "userId                                                                          \n",
       "1        4.000000  4.259478  4.000000  3.207967  3.925292  4.000000  4.069574   \n",
       "2        4.329131  3.851541  3.708194  2.800030  3.517356  4.388540  3.661637   \n",
       "3        2.784686  2.307097  2.163749  1.255586  1.972911  2.844095  2.117193   \n",
       "4        3.903205  3.425615  3.282268  2.374104  3.091430  3.962614  3.235712   \n",
       "5        4.000000  3.538676  3.395328  2.487165  3.204490  4.075674  3.348772   \n",
       "\n",
       "                                       ...                                \\\n",
       "movieId    8         9         10      ...    193565    193567    193571   \n",
       "userId                                 ...                                 \n",
       "1        3.707967  3.984157  4.363324  ...  4.350824  3.850824  4.850824   \n",
       "2        3.300030  3.576221  3.955387  ...  3.942887  3.442887  4.442887   \n",
       "3        1.755586  2.031776  2.410943  ...  2.398443  1.898443  2.898443   \n",
       "4        2.874104  3.150295  3.529462  ...  3.516962  3.016962  4.016962   \n",
       "5        2.987165  3.263355  3.642522  ...  3.630022  3.130022  4.130022   \n",
       "\n",
       "                                                                               \n",
       "movieId    193573    193579    193581    193583    193585    193587    193609  \n",
       "userId                                                                         \n",
       "1        4.850824  4.350824  4.850824  4.350824  3.501557  3.501557  4.850824  \n",
       "2        4.442887  3.942887  4.442887  3.942887  3.501557  3.501557  4.442887  \n",
       "3        2.898443  2.398443  2.898443  2.398443  3.501557  3.501557  2.898443  \n",
       "4        4.016962  3.516962  4.016962  3.516962  3.501557  3.501557  4.016962  \n",
       "5        4.130022  3.630022  4.130022  3.630022  3.501557  3.501557  4.130022  \n",
       "\n",
       "[5 rows x 9724 columns]"
      ]
     },
     "execution_count": 10,
     "metadata": {},
     "output_type": "execute_result"
    }
   ],
   "source": [
    "util_matrix_filled.head()"
   ]
  },
  {
   "cell_type": "markdown",
   "metadata": {},
   "source": [
    "## Truncated SVD"
   ]
  },
  {
   "cell_type": "markdown",
   "metadata": {},
   "source": [
    "**Singular Value Decomposition**: Lez Z be a real $n \\times d$ matrix where $n \\geq d$. Then the matrix Z can be written as a product of three matrices $Z = U \\Lambda^{\\frac{1}{2}} V^T$ such that\n",
    "* U is $n \\times d$ orthonormal matrix\n",
    "* V is a $d \\times d$ orthonormal matrix\n",
    "* $\\Lambda$ is a $d \\times d$ matrix with nonnegative entries\n",
    "\n",
    "**Truncated SVD**: Let Z be a real $n \\times d$ matrix, from SVD we have $Z = U \\Lambda^{\\frac{1}{2}} V^T$. Let $\\lambda_1 \\geq ... \\geq \\lambda_n \\geq 0$ be the eigenvalues of $Z Z^T$. Ley $U_r$ denote the matrix consisitng of first r columns of U and similarily let $V_r$ denote the first r columns of V, r<d.  Additionally, let $\\Lambda_r$ be a square $r \\times r$ matrix - truncated $\\Lambda$ to first r rows and columns. Define $\\hat{Z} = U_r \\Lambda_r^{\\frac{1}{2}} V_r^t$. We have:\n",
    "$$\n",
    "|| Z - \\hat{Z}_r^2 || = \\Sigma_{r+1}^d \\lambda_i\n",
    "$$\n",
    "\n",
    "With that being said let's build some intuition of how to incorporate these theorems to recommender systems. It's quite obvious that SVD theorem as it is doesn't help in our problem. It can give different representation of input matrix, but we are not particullary interested in such metamorphosis as we are looking for missing values. Things got more interesting with Truncated SVD. \n",
    "\n",
    "In our case $n$ is number of users and $d$ in number of movies. We might think of decomposition elemnts as follows:\n",
    "* U - users to concepts matrix\n",
    "* $\\Lambda$ - strengths of concepts matrix\n",
    "* V^T - movies to concepts matrix\n",
    "\n",
    "The concepts is a meta-concept that we try to capture and which is responsible for ratings differentiation. We hope that in concepts space there is direct link between user preferences and movie. Now the main interest is $\\Lambda$ matrix because it describes core of concepts. We have that $\\lambda_1 \\geq ... \\geq \\lambda_n \\geq 0$ so the strongest concepts are grouped on diagonal in the right upper corner. Truncated SVD theorem can be read as removing an influence of redundant (noise) concepts from Z matrix. This procedure gives $\\hat{Z}$ as a result. \n",
    "\n",
    "The problem is how we should choose parameter $r$ which represent the number of important concepts. There is no direct answer and it is obrained via searching parameter space and compare results against test set."
   ]
  },
  {
   "cell_type": "code",
   "execution_count": 11,
   "metadata": {},
   "outputs": [],
   "source": [
    "svd = TruncatedSVD(random_state=42)\n",
    "\n",
    "svd_dict = {}\n",
    "for n_components in range(8, 30, 2):\n",
    "    svd.n_components = n_components\n",
    "    svd.fit(util_matrix_filled)\n",
    "    sigma = np.diag(svd.singular_values_)\n",
    "    VT = svd.components_\n",
    "    W = svd.transform(util_matrix_filled)/svd.singular_values_\n",
    "    H = np.dot(sigma ,VT)\n",
    "    svd_prediction = W @ H\n",
    "    svd_prediction = pd.DataFrame(svd_prediction, \n",
    "                                  columns=util_matrix_filled.columns, \n",
    "                                  index=util_matrix_filled.index)\n",
    "    svd_dict[n_components] = [get_rse(svd_prediction.stack(), X_test), \n",
    "                              svd.explained_variance_ratio_.sum()]"
   ]
  },
  {
   "cell_type": "code",
   "execution_count": 13,
   "metadata": {},
   "outputs": [
    {
     "data": {
      "image/png": "[encoded data removed]",
      "text/plain": [
       "<Figure size 432x432 with 1 Axes>"
      ]
     },
     "metadata": {
      "needs_background": "light"
     },
     "output_type": "display_data"
    }
   ],
   "source": [
    "svd_df = pd.DataFrame.from_dict(svd_dict)\n",
    "min_idx = svd_df.loc[0, :].idxmin()\n",
    "svd_rse = svd_df.loc[0, :].min()\n",
    "\n",
    "svd_df[\"value\"] = [\"rse\", \"expl_var\"]\n",
    "svd_df.set_index(\"value\", inplace=True)\n",
    "svd_df = svd_df.T.stack().reset_index()\n",
    "svd_df.columns = [\"n_components\", \"metric\", \"value\"]\n",
    "\n",
    "fig, ax = plt.subplots(1, 1, figsize = (6, 6))\n",
    "sns.lineplot(x=\"n_components\", y=\"value\", hue=\"metric\", data=svd_df, ax=ax)\n",
    "sns.scatterplot(x=\"n_components\", y=\"value\", hue=\"metric\", data=svd_df, ax=ax, legend=False)\n",
    "\n",
    "ax.text(min_idx-1, svd_rse+0.005, str((min_idx, round(svd_rse, 3))))\n",
    "ax.set_title('Grid search for Truncated SVD');"
   ]
  },
  {
   "cell_type": "markdown",
   "metadata": {},
   "source": [
    "Unfortunatelly there is no significant improvment when comparing to adjusted-means recommender. "
   ]
  },
  {
   "cell_type": "markdown",
   "metadata": {},
   "source": [
    "## Iterative (but not gradient-based) SVD "
   ]
  },
  {
   "cell_type": "markdown",
   "metadata": {},
   "source": [
    "Iterative SVD is an approach when wishfull thinkink actually works (sometimes). The idea is that we extract $r$ concepts as it was previously, but this time we try to focus on ratings that were already given. Fristly we set $Z^{(0)} = SVD_r[Z]$ as our initial guess. Then we iteratively compute $Z^{(n+1)} = SVD_r[Z \\text{ if } z_{ij} >0 \\text{ and } Z^{(n)} \\text{ elsewhere }]$. Iterations are repeated until $Z^{(n_0 + 1)} = Z^{(n_0)}$. Unfortunatelly this algorithm may not converge. "
   ]
  },
  {
   "cell_type": "code",
   "execution_count": 55,
   "metadata": {},
   "outputs": [],
   "source": [
    "svd_opimal_comp = svd_df[svd_df[\"metric\"] == \"rse\"][[\"value\"]].idxmin()[0]\n",
    "svd_iter = TruncatedSVD(random_state=42, n_components=svd_opimal_comp)\n",
    "\n",
    "def if_converged():\n",
    "    return np.all(np.isclose(Z_0, Z_next, rtol=1, atol=1))\n",
    "\n",
    "def if_exceed_max_iter(i, max_iter=15):\n",
    "    return i > max_iter\n",
    "\n",
    "i = 1\n",
    "Z_0 = util_matrix_filled.copy()\n",
    "nan_indices = util_matrix.isna()\n",
    "while not if_exceed_max_iter(i):\n",
    "    svd_iter.fit(Z_0)\n",
    "    sigma = np.diag(svd.singular_values_)\n",
    "    VT = svd.components_\n",
    "    W = svd.transform(util_matrix_filled)/svd.singular_values_\n",
    "    H = np.dot(sigma ,VT)\n",
    "    Z_next = W @ H\n",
    "    Z_next = pd.DataFrame(svd_prediction, columns=util_matrix_filled.columns, index=util_matrix_filled.index)\n",
    "    if if_converged():\n",
    "        print('Converged')\n",
    "        break\n",
    "    Z_0 = Z_0.mask(nan_indices, Z_next)\n",
    "    i += 1"
   ]
  },
  {
   "cell_type": "code",
   "execution_count": 57,
   "metadata": {},
   "outputs": [
    {
     "data": {
      "text/plain": [
       "0.9040968894890251"
      ]
     },
     "execution_count": 57,
     "metadata": {},
     "output_type": "execute_result"
    }
   ],
   "source": [
    "svd_iter_rse = get_rse(Z_next.stack(), X_test)\n",
    "svd_iter_rse"
   ]
  },
  {
   "cell_type": "markdown",
   "metadata": {},
   "source": [
    "In this case algorithm didn't converge, hence the iteretions were stopped after fifteen updates. It also gave slightly worse results than standard SVD."
   ]
  },
  {
   "cell_type": "markdown",
   "metadata": {},
   "source": [
    "## NMF\n",
    "\n",
    "For SVD we had $Z = U \\Lambda^{\\frac{1}{2}} V^T = UH$. For NMF we will assume that $Z = WH$ and $U$ and $H$ must be nonnegative. It can be formalized in terms of optimization problem as follows:\n",
    "\n",
    "Given Z of sive $n \\times d$ find:\n",
    "$$\n",
    "argmin_{W, H} \\{dist(Z, WH)\\} \\text{, such that W, H } \\geq 0\n",
    "$$\n",
    "\n",
    "Similarily to SVD we need to choose the W and H dimenstion parameter $r$."
   ]
  },
  {
   "cell_type": "code",
   "execution_count": 58,
   "metadata": {},
   "outputs": [],
   "source": [
    "epsilon = 10e-4\n",
    "nmf_offset = abs(np.min(util_matrix_filled.values)) + epsilon\n",
    "nmf_model = NMF(init='random' , random_state=0)\n",
    "\n",
    "rse_info = {}\n",
    "# n_components <= min(132, 4841)\n",
    "for n_components in range(10, 40, 5):\n",
    "    nmf_model.n_components = n_components\n",
    "    W = nmf_model.fit_transform(util_matrix_filled + nmf_offset)\n",
    "    H = nmf_model.components_\n",
    "    X_approx = np.dot(W,H) - nmf_offset\n",
    "    X_approx = pd.DataFrame(X_approx, columns=util_matrix.columns, index=util_matrix.index)\n",
    "    rse_info[n_components] = get_rse(X_approx.stack().reset_index(), X_test)"
   ]
  },
  {
   "cell_type": "code",
   "execution_count": 59,
   "metadata": {},
   "outputs": [
    {
     "data": {
      "image/png": "[encoded data removed]",
      "text/plain": [
       "<Figure size 432x432 with 1 Axes>"
      ]
     },
     "metadata": {
      "needs_background": "light"
     },
     "output_type": "display_data"
    }
   ],
   "source": [
    "rse_series = pd.Series(rse_info)\n",
    "fig, ax = plt.subplots(1, 1, figsize = (6, 6))\n",
    "sns.lineplot(data=pd.Series(rse_series), label=\"line\", ax=ax)\n",
    "sns.scatterplot(data=rse_series)\n",
    "\n",
    "min_idx = rse_series.idxmin()\n",
    "nmf_rse = rse_series.min()\n",
    "ax.text(min_idx+.7, nmf_rse, str((min_idx, round(nmf_rse, 3))))\n",
    "\n",
    "ax.legend_.remove()\n",
    "ax.set_title('Grid search for NMF')\n",
    "ax;"
   ]
  },
  {
   "cell_type": "markdown",
   "metadata": {},
   "source": [
    "I seems that 0.9 rse is a limit for simple decomposition strategies."
   ]
  },
  {
   "cell_type": "markdown",
   "metadata": {},
   "source": [
    "## Kernel PCA"
   ]
  },
  {
   "cell_type": "code",
   "execution_count": 60,
   "metadata": {},
   "outputs": [],
   "source": [
    "#kpca = KernelPCA(fit_inverse_transform=True, gamma=10)\n",
    "#kpca_dict = {}\n",
    "#for kernel in [\"rbf\", \"poly\"]:\n",
    "#    kpca.kernel = kernel\n",
    "#    kpca_prediction = kpca.fit_transform(util_matrix_filled - grand_mean)\n",
    "#    kpca_prediction = kpca.inverse_transform(kpca_prediction)  + grand_mean\n",
    "#    kpca_prediction = pd.DataFrame(kpca_prediction, \n",
    "#                                   columns=util_matrix_filled.columns, \n",
    "#                                   index=util_matrix_filled.index)\n",
    "#    kpca_dict[kernel] = get_rse(kpca_prediction.stack(), X_test)"
   ]
  },
  {
   "cell_type": "code",
   "execution_count": null,
   "metadata": {},
   "outputs": [],
   "source": [
    "#kpca_dict"
   ]
  },
  {
   "cell_type": "markdown",
   "metadata": {},
   "source": [
    "### SGD-Based SVD"
   ]
  },
  {
   "cell_type": "code",
   "execution_count": null,
   "metadata": {},
   "outputs": [],
   "source": [
    "# lr_all – The learning rate for all parameters. Default is 0.005.\n",
    "# reg_all – The regularization term for all parameters. Default is 0.02\n",
    "param_grid = {'n_epochs': [5, 10, 20, 30], \n",
    "              'lr_all': [0.007, 0.009, 0.01],\n",
    "              'reg_all': [0.05, 0.1, 0.2, 0.4]}\n",
    "\n",
    "gs =  RandomizedSearchCV(SVD, \n",
    "                         param_grid, \n",
    "                         measures=['rmse'], \n",
    "                         cv=cv,\n",
    "                         return_train_measures=True,\n",
    "                         refit=True,\n",
    "                         n_iter=15, \n",
    "                         n_jobs=3)\n",
    "gs.fit(data_surp)\n",
    "svd_sgd = gs.best_estimator\n",
    "svd_sgd_cv = cross_validate(svd_sgd['rmse'], data_surp, verbose=True, cv=cv)\n",
    "\n",
    "#print(gs.best_params['rmse'])\n",
    "#0.8541955377814917\n",
    "#{'n_epochs': 20, 'lr_all': 0.009, 'reg_all': 0.05}\n",
    "\n",
    "svd_sgd_rse = svd_sgd_cv['test_rmse'].mean()"
   ]
  },
  {
   "cell_type": "markdown",
   "metadata": {},
   "source": [
    "## Models comparison"
   ]
  },
  {
   "cell_type": "code",
   "execution_count": null,
   "metadata": {},
   "outputs": [],
   "source": [
    "comparison = {\"Dummy\": dummy_rse, \n",
    "              \"Mean Adj\": mean_adj_rse,  \n",
    "              \"NMF\": nmf_rse, \n",
    "              \"Poly PCA\": kpca_dict['poly'],\n",
    "              \"Rbf PCA\": kpca_dict['rbf'],\n",
    "              \"SVD\": svd_rse,\n",
    "              \"SVD + SGD\": svd_sgd_rse}\n",
    "pd.Series(comparison).round(5)"
   ]
  }
 ],
 "metadata": {
  "kernelspec": {
   "display_name": "venv",
   "language": "python",
   "name": "venv"
  },
  "language_info": {
   "codemirror_mode": {
    "name": "ipython",
    "version": 3
   },
   "file_extension": ".py",
   "mimetype": "text/x-python",
   "name": "python",
   "nbconvert_exporter": "python",
   "pygments_lexer": "ipython3",
   "version": "3.5.2"
  }
 },
 "nbformat": 4,
 "nbformat_minor": 4
}
