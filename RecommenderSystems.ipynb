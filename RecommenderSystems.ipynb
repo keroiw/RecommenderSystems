{
 "cells": [
  {
   "cell_type": "code",
   "execution_count": 4,
   "metadata": {},
   "outputs": [],
   "source": [
    "import matplotlib.pyplot as plt\n",
    "import numpy as np\n",
    "import os\n",
    "import pandas as pd\n",
    "import scipy\n",
    "import seaborn as sns\n",
    "import surprise\n",
    "\n",
    "from sklearn.decomposition import NMF, TruncatedSVD\n",
    "from sklearn.metrics import mean_squared_error\n",
    "from sklearn.model_selection import train_test_split\n",
    "\n",
    "from surprise import SVD\n",
    "from surprise import Dataset, Reader\n",
    "from surprise.model_selection import cross_validate, train_test_split, RandomizedSearchCV, split"
   ]
  },
  {
   "cell_type": "code",
   "execution_count": 5,
   "metadata": {},
   "outputs": [],
   "source": [
    "ratings_path = os.path.join(os.getcwd(), os.path.join('ml-latest-small', 'ratings.csv'))\n",
    "data = pd.read_csv(ratings_path).drop([\"timestamp\"], axis=1)"
   ]
  },
  {
   "cell_type": "markdown",
   "metadata": {},
   "source": [
    "## Train test split"
   ]
  },
  {
   "cell_type": "code",
   "execution_count": 6,
   "metadata": {},
   "outputs": [],
   "source": [
    "def split_dataset(X, test_frac=0.1):\n",
    "    test_set_size = int(X.shape[0]*test_frac)\n",
    "    test_idx = np.random.choice(X.index, size=test_set_size, replace=False)\n",
    "    test_set = X.loc[test_idx, :]\n",
    "    train_set = X.copy()\n",
    "    train_set.loc[test_idx, \"rating\"] = np.NaN\n",
    "    return train_set, test_set.sort_values(by=[\"userId\", \"movieId\"]), test_idx\n",
    "\n",
    "X_train, X_test, test_idx = split_dataset(data)\n",
    "util_matrix = X_train.pivot(index='userId', columns='movieId')"
   ]
  },
  {
   "cell_type": "code",
   "execution_count": 7,
   "metadata": {},
   "outputs": [
    {
     "data": {
      "image/png": "[encoded data removed]",
      "text/plain": [
       "<Figure size 432x432 with 1 Axes>"
      ]
     },
     "metadata": {},
     "output_type": "display_data"
    }
   ],
   "source": [
    "fig, ax = plt.subplots(1, 1, figsize = (6, 6))\n",
    "\n",
    "cmap = sns.color_palette(\"YlGnBu\", len(data[\"rating\"].unique()))\n",
    "sns.heatmap(util_matrix.fillna(-1), \n",
    "            yticklabels=False, \n",
    "            xticklabels=False, \n",
    "            #cmap=cmap,\n",
    "            cbar=False, \n",
    "            ax=ax)\n",
    "\n",
    "ax.set_title('Missing ratings')\n",
    "ax.set_xlabel('Movies')\n",
    "ax.set_ylabel('Users');"
   ]
  },
  {
   "cell_type": "markdown",
   "metadata": {},
   "source": [
    "## Data imputation"
   ]
  },
  {
   "cell_type": "code",
   "execution_count": 28,
   "metadata": {},
   "outputs": [],
   "source": [
    "def adjust_to_mean(df, util_matrix, col):\n",
    "    group_means = df.groupby(col).aggregate(np.mean)\n",
    "    util_copy = util_matrix.copy()\n",
    "    for col in util_copy.columns:\n",
    "        util_copy.loc[:, col] = group_means.values\n",
    "    return util_copy\n",
    "\n",
    "user_avg_ratings = adjust_to_mean(X_train.drop('movieId', axis=1), util_matrix, 'userId')\n",
    "movie_avg_ratings = adjust_to_mean(X_train.drop('userId', axis=1), util_matrix.T, 'movieId').T\n",
    "grand_mean = data.loc[:, \"rating\"].mean()\n",
    "\n",
    "mean_adjusted_ratings = user_avg_ratings + movie_avg_ratings - grand_mean\n",
    "util_matrix_filled = util_matrix.mask(np.isnan, other=mean_adjusted_ratings)\n",
    "util_matrix_filled = util_matrix_filled.mask(np.isnan, other=grand_mean)"
   ]
  },
  {
   "cell_type": "markdown",
   "metadata": {},
   "source": [
    "### Dummy classifier"
   ]
  },
  {
   "cell_type": "code",
   "execution_count": 29,
   "metadata": {},
   "outputs": [
    {
     "data": {
      "text/plain": [
       "1.0446156469268717"
      ]
     },
     "execution_count": 29,
     "metadata": {},
     "output_type": "execute_result"
    }
   ],
   "source": [
    "mean_movie_rating = X_train[\"rating\"].mean()\n",
    "dummy_prediction = np.full(X_test[\"rating\"].shape, mean_movie_rating)\n",
    "dummy_rse = mean_squared_error(X_test[\"rating\"], dummy_prediction)\n",
    "dummy_rse**(1/2)"
   ]
  },
  {
   "cell_type": "markdown",
   "metadata": {},
   "source": [
    "### Mean adjusted classifier"
   ]
  },
  {
   "cell_type": "code",
   "execution_count": 30,
   "metadata": {},
   "outputs": [],
   "source": [
    "def get_rse(prediction, test_set):\n",
    "    ratings_comparison = prediction.merge(test_set, on=[\"userId\", \"movieId\"]).loc[:, [\"rating_x\", \"rating_y\"]]\n",
    "    error = mean_squared_error(ratings_comparison[\"rating_x\"], \n",
    "                               ratings_comparison[\"rating_y\"])\n",
    "    return error ** (1/2)"
   ]
  },
  {
   "cell_type": "code",
   "execution_count": 31,
   "metadata": {},
   "outputs": [
    {
     "data": {
      "text/plain": [
       "0.9067929180262044"
      ]
     },
     "execution_count": 31,
     "metadata": {},
     "output_type": "execute_result"
    }
   ],
   "source": [
    "mean_adj_rse = get_rse(util_matrix_filled.stack().reset_index(), X_test)\n",
    "mean_adj_rse"
   ]
  },
  {
   "cell_type": "markdown",
   "metadata": {},
   "source": [
    "### NMF"
   ]
  },
  {
   "cell_type": "code",
   "execution_count": 32,
   "metadata": {},
   "outputs": [],
   "source": [
    "epsilon = 10e-4\n",
    "nmf_offset = abs(np.min(util_matrix_filled.values)) + epsilon\n",
    "nmf_model = NMF(init='random' , random_state=0)\n",
    "\n",
    "rse_info = {}\n",
    "# n_components <= min(132, 4841)\n",
    "for n_components in range(10, 40, 5):\n",
    "    nmf_model.n_components = n_components\n",
    "    W = nmf_model.fit_transform(util_matrix_filled + nmf_offset)\n",
    "    H = nmf_model.components_\n",
    "    X_approx = np.dot(W,H) - nmf_offset\n",
    "    X_approx = pd.DataFrame(X_approx, columns=util_matrix.columns, index=util_matrix.index)\n",
    "    rse_info[n_components] = get_rse(X_approx.stack().reset_index(), X_test)"
   ]
  },
  {
   "cell_type": "code",
   "execution_count": 33,
   "metadata": {},
   "outputs": [
    {
     "data": {
      "image/png": "[encoded data removed]",
      "text/plain": [
       "<Figure size 432x432 with 1 Axes>"
      ]
     },
     "metadata": {
      "needs_background": "light"
     },
     "output_type": "display_data"
    }
   ],
   "source": [
    "rse_series = pd.Series(rse_info)\n",
    "fig, ax = plt.subplots(1, 1, figsize = (6, 6))\n",
    "sns.lineplot(data=pd.Series(rse_series), label=\"line\", ax=ax)\n",
    "sns.scatterplot(data=rse_series)\n",
    "\n",
    "min_idx = rse_series.idxmin()\n",
    "min_nmf = rse_series.min()\n",
    "ax.text(min_idx+.7, min_nmf, str((min_idx, round(min_nmf, 3))))\n",
    "\n",
    "ax.legend_.remove()\n",
    "ax.set_title('Grid search for NMF')\n",
    "ax;"
   ]
  },
  {
   "cell_type": "markdown",
   "metadata": {},
   "source": [
    "## SVD"
   ]
  },
  {
   "cell_type": "code",
   "execution_count": 34,
   "metadata": {},
   "outputs": [],
   "source": [
    "svd = TruncatedSVD(random_state=42)\n",
    "\n",
    "svd_dict = {}\n",
    "for n_components in range(8, 30, 2):\n",
    "    svd.n_components = n_components\n",
    "    svd.fit(util_matrix_filled)\n",
    "    sigma = np.diag(svd.singular_values_)\n",
    "    VT = svd.components_\n",
    "    W = svd.transform(util_matrix_filled)/svd.singular_values_\n",
    "    H = np.dot(sigma ,VT)\n",
    "    svd_prediction = W @ H\n",
    "    svd_prediction = pd.DataFrame(svd_prediction, \n",
    "                                  columns=util_matrix_filled.columns, \n",
    "                                  index=util_matrix_filled.index)\n",
    "    svd_dict[n_components] = [get_rse(svd_prediction.stack(), X_test), \n",
    "                              svd.explained_variance_ratio_.sum()]"
   ]
  },
  {
   "cell_type": "code",
   "execution_count": 35,
   "metadata": {},
   "outputs": [
    {
     "data": {
      "image/png": "[encoded data removed]",
      "text/plain": [
       "<Figure size 432x432 with 1 Axes>"
      ]
     },
     "metadata": {
      "needs_background": "light"
     },
     "output_type": "display_data"
    }
   ],
   "source": [
    "svd_df = pd.DataFrame.from_dict(svd_dict)\n",
    "min_idx = svd_df.loc[0, :].idxmin()\n",
    "min_svd = svd_df.loc[0, :].min()\n",
    "\n",
    "svd_df[\"value\"] = [\"rse\", \"expl_var\"]\n",
    "svd_df.set_index(\"value\", inplace=True)\n",
    "svd_df = svd_df.T.stack().reset_index()\n",
    "svd_df.columns = [\"n_components\", \"metric\", \"value\"]\n",
    "\n",
    "fig, ax = plt.subplots(1, 1, figsize = (6, 6))\n",
    "sns.lineplot(x=\"n_components\", y=\"value\", hue=\"metric\", data=svd_df, ax=ax)\n",
    "sns.scatterplot(x=\"n_components\", y=\"value\", hue=\"metric\", data=svd_df, ax=ax, legend=False)\n",
    "\n",
    "ax.text(min_idx-1, min_svd+0.005, str((min_idx, round(min_svd, 3))))\n",
    "ax.set_title('Grid search for Truncated SVD');"
   ]
  },
  {
   "cell_type": "markdown",
   "metadata": {},
   "source": [
    "### Dummy classifier with surpsise"
   ]
  },
  {
   "cell_type": "code",
   "execution_count": 16,
   "metadata": {},
   "outputs": [
    {
     "name": "stdout",
     "output_type": "stream",
     "text": [
      "Evaluating RMSE, MAE of algorithm DummyRecommender on 3 split(s).\n",
      "\n",
      "                  Fold 1  Fold 2  Fold 3  Mean    Std     \n",
      "RMSE (testset)    1.0431  1.0383  1.0382  1.0399  0.0023  \n",
      "MAE (testset)     0.8259  0.8194  0.8224  0.8226  0.0027  \n",
      "Fit time          0.02    0.04    0.04    0.04    0.01    \n",
      "Test time         0.03    0.10    0.03    0.05    0.03    \n"
     ]
    },
    {
     "data": {
      "text/plain": [
       "{'fit_time': (0.022330760955810547, 0.04292702674865723, 0.044764041900634766),\n",
       " 'test_mae': array([0.82591394, 0.81942166, 0.82243238]),\n",
       " 'test_rmse': array([1.04310594, 1.03834969, 1.03821183]),\n",
       " 'test_time': (0.029151439666748047, 0.1022489070892334, 0.028337955474853516)}"
      ]
     },
     "execution_count": 16,
     "metadata": {},
     "output_type": "execute_result"
    }
   ],
   "source": [
    "from surprise import AlgoBase\n",
    "\n",
    "class DummyRecommender(AlgoBase):\n",
    "\n",
    "    def __init__(self):\n",
    "        AlgoBase.__init__(self)\n",
    "\n",
    "    def fit(self, trainset):\n",
    "        AlgoBase.fit(self, trainset)\n",
    "        self.global_mean = trainset.global_mean\n",
    "        return self\n",
    "\n",
    "    def estimate(self, u, i):\n",
    "        return self.global_mean\n",
    "    \n",
    "cross_validate(DummyRecommender(), data_surp, verbose=True, cv=cv)"
   ]
  },
  {
   "cell_type": "code",
   "execution_count": 17,
   "metadata": {},
   "outputs": [
    {
     "name": "stdout",
     "output_type": "stream",
     "text": [
      "Evaluating RMSE, MAE of algorithm MeanAdjustedRecommender on 3 split(s).\n",
      "\n",
      "                  Fold 1  Fold 2  Fold 3  Mean    Std     \n",
      "RMSE (testset)    0.9226  0.9188  0.9195  0.9203  0.0017  \n",
      "MAE (testset)     0.7048  0.7000  0.7001  0.7016  0.0023  \n",
      "Fit time          6.38    6.39    6.40    6.39    0.01    \n",
      "Test time         0.60    0.60    0.60    0.60    0.00    \n"
     ]
    },
    {
     "data": {
      "text/plain": [
       "{'fit_time': (6.380048990249634, 6.3915746212005615, 6.395204305648804),\n",
       " 'test_mae': array([0.70481419, 0.6999786 , 0.7000901 ]),\n",
       " 'test_rmse': array([0.92262942, 0.91875943, 0.91946632]),\n",
       " 'test_time': (0.6019554138183594, 0.596137285232544, 0.5979757308959961)}"
      ]
     },
     "execution_count": 17,
     "metadata": {},
     "output_type": "execute_result"
    }
   ],
   "source": [
    "from surprise import AlgoBase\n",
    "\n",
    "\n",
    "def adjust_to_mean(df, util_matrix, col):\n",
    "    group_means = df.groupby(col).aggregate(np.mean)\n",
    "    util_copy = util_matrix.copy()\n",
    "    for col in util_copy.columns:\n",
    "        util_copy.loc[:, col] = group_means.values.reshape(-1)\n",
    "    return util_copy\n",
    "\n",
    "class MeanAdjustedRecommender(AlgoBase):\n",
    "\n",
    "    def __init__(self):\n",
    "        AlgoBase.__init__(self)\n",
    "\n",
    "    def fit(self, trainset):\n",
    "        AlgoBase.fit(self, trainset)\n",
    "        self.global_mean = trainset.global_mean\n",
    "        \n",
    "        dataset = np.array([[uid, iid, r] for (uid, iid, r) in trainset.all_ratings()]).reshape((-1, 3))\n",
    "        dataset = pd.DataFrame(dataset, columns=['userId', 'movieId', 'rating'])\n",
    "        dataset = dataset.astype({'userId': 'int32', 'movieId':'int32'})\n",
    "        \n",
    "        util_matrix = dataset.pivot(index='userId', columns='movieId')\n",
    "        user_avg_ratings = adjust_to_mean(dataset.drop('movieId', axis=1), util_matrix, 'userId')\n",
    "        movie_avg_ratings = adjust_to_mean(dataset.drop('userId', axis=1), util_matrix.T, 'movieId').T\n",
    "        self.mean_adj_matrix =  user_avg_ratings + movie_avg_ratings - self.global_mean\n",
    "        \n",
    "        return self\n",
    "\n",
    "    def estimate(self, u, i):\n",
    "        if self.trainset.knows_user(u) and self.trainset.knows_item(i):\n",
    "            return self.mean_adj_matrix.iloc[u, i]\n",
    "        return self.global_mean\n",
    "    \n",
    "mean_adj_recommender = MeanAdjustedRecommender()\n",
    "cross_validate(MeanAdjustedRecommender(), data_surp, verbose=True, cv=cv)"
   ]
  },
  {
   "cell_type": "markdown",
   "metadata": {},
   "source": [
    "### SGD-Based SVD"
   ]
  },
  {
   "cell_type": "code",
   "execution_count": 15,
   "metadata": {},
   "outputs": [],
   "source": [
    "reader = Reader()\n",
    "data_surp = Dataset.load_from_df(data, reader)\n",
    "\n",
    "# lr_all – The learning rate for all parameters. Default is 0.005.\n",
    "# reg_all – The regularization term for all parameters. Default is 0.02\n",
    "param_grid = {'n_epochs': [5, 10, 20, 30], \n",
    "              'lr_all': [0.007, 0.009, 0.01],\n",
    "              'reg_all': [0.05, 0.1, 0.2, 0.4]}\n",
    "\n",
    "cv = split.ShuffleSplit(n_splits=3, test_size=0.1, shuffle=True)\n",
    "gs =  RandomizedSearchCV(SVD, \n",
    "                         param_grid, \n",
    "                         measures=['rmse'], \n",
    "                         cv=cv,\n",
    "                         return_train_measures=True,\n",
    "                         refit=True,\n",
    "                         n_iter=15, \n",
    "                         n_jobs=3)\n",
    "gs.fit(data_surp)\n",
    "svd_sgd = gs.best_estimator"
   ]
  },
  {
   "cell_type": "code",
   "execution_count": null,
   "metadata": {},
   "outputs": [],
   "source": [
    "print(gs.best_score['rmse'])\n",
    "print(gs.best_params['rmse'])\n",
    "\n",
    "#0.8541955377814917\n",
    "#{'n_epochs': 20, 'lr_all': 0.009, 'reg_all': 0.05}"
   ]
  },
  {
   "cell_type": "code",
   "execution_count": null,
   "metadata": {},
   "outputs": [],
   "source": [
    "cross_validate(svd_sgd['rmse'], data_surp, verbose=True, cv=cv)"
   ]
  },
  {
   "cell_type": "markdown",
   "metadata": {},
   "source": [
    "## Models comparison"
   ]
  },
  {
   "cell_type": "code",
   "execution_count": null,
   "metadata": {},
   "outputs": [],
   "source": [
    "comparison = {\"Dummy\": dummy_rse, \n",
    "              \"Mean Adj\": mean_adj_rse,  \n",
    "              \"NMF\": min_nmf, \n",
    "              \"SVD\": min_svd}\n",
    "pd.Series(comparison).round(5)"
   ]
  }
 ],
 "metadata": {
  "kernelspec": {
   "display_name": "venv",
   "language": "python",
   "name": "venv"
  },
  "language_info": {
   "codemirror_mode": {
    "name": "ipython",
    "version": 3
   },
   "file_extension": ".py",
   "mimetype": "text/x-python",
   "name": "python",
   "nbconvert_exporter": "python",
   "pygments_lexer": "ipython3",
   "version": "3.5.2"
  }
 },
 "nbformat": 4,
 "nbformat_minor": 4
}
