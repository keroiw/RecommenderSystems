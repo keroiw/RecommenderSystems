{
 "cells": [
  {
   "cell_type": "code",
   "execution_count": 1,
   "metadata": {},
   "outputs": [],
   "source": [
    "import matplotlib.pyplot as plt\n",
    "import numpy as np\n",
    "import os\n",
    "import pandas as pd\n",
    "import scipy\n",
    "import seaborn as sns\n",
    "\n",
    "from sklearn.decomposition import NMF, TruncatedSVD\n",
    "from sklearn.metrics import mean_squared_error\n",
    "from sklearn.model_selection import train_test_split"
   ]
  },
  {
   "cell_type": "code",
   "execution_count": 2,
   "metadata": {},
   "outputs": [],
   "source": [
    "ratings_path = os.path.join(os.getcwd(), os.path.join('ml-latest-small', 'ratings.csv'))\n",
    "data = pd.read_csv(ratings_path, nrows=20000).drop([\"timestamp\"], axis=1)"
   ]
  },
  {
   "cell_type": "markdown",
   "metadata": {},
   "source": [
    "## Train test split"
   ]
  },
  {
   "cell_type": "code",
   "execution_count": 3,
   "metadata": {},
   "outputs": [],
   "source": [
    "def split_dataset(X, test_frac=0.1):\n",
    "    test_set_size = int(X.shape[0]*test_frac)\n",
    "    test_idx = np.random.choice(X.index, size=test_set_size, replace=False)\n",
    "    test_set = X.loc[test_idx, :]\n",
    "    train_set = X.copy()\n",
    "    train_set.loc[test_idx, \"rating\"] = np.NaN\n",
    "    return train_set, test_set\n",
    "\n",
    "X_train, X_test = split_dataset(data)"
   ]
  },
  {
   "cell_type": "code",
   "execution_count": 4,
   "metadata": {},
   "outputs": [
    {
     "data": {
      "text/plain": [
       "(132, 4841)"
      ]
     },
     "execution_count": 4,
     "metadata": {},
     "output_type": "execute_result"
    }
   ],
   "source": [
    "util_matrix = X_train.pivot(index='userId', columns='movieId')\n",
    "util_matrix.shape"
   ]
  },
  {
   "cell_type": "code",
   "execution_count": 5,
   "metadata": {},
   "outputs": [
    {
     "data": {
      "image/png": "[encoded data removed]",
      "text/plain": [
       "<Figure size 432x432 with 1 Axes>"
      ]
     },
     "metadata": {},
     "output_type": "display_data"
    }
   ],
   "source": [
    "fig, ax = plt.subplots(1, 1, figsize = (6, 6))\n",
    "\n",
    "cmap = sns.color_palette(\"YlGnBu\", len(data[\"rating\"].unique()))\n",
    "sns.heatmap(util_matrix.fillna(-1), \n",
    "            yticklabels=False, \n",
    "            xticklabels=False, \n",
    "            #cmap=cmap,\n",
    "            cbar=False, \n",
    "            ax=ax)\n",
    "\n",
    "ax.set_title('Missing ratings')\n",
    "ax.set_xlabel('Movies')\n",
    "ax.set_ylabel('Users');"
   ]
  },
  {
   "cell_type": "markdown",
   "metadata": {},
   "source": [
    "## Data imputation"
   ]
  },
  {
   "cell_type": "code",
   "execution_count": 6,
   "metadata": {},
   "outputs": [],
   "source": [
    "def adjust_to_mean(df, util_matrix, col):\n",
    "    group_means = df.groupby(col).aggregate(np.mean)\n",
    "    util_copy = util_matrix.copy()\n",
    "    for col in util_copy.columns:\n",
    "        util_copy.loc[:, col] = group_means.values\n",
    "    return util_copy\n",
    "\n",
    "user_avg_ratings = adjust_to_mean(data.drop('movieId', axis=1), util_matrix, 'userId')\n",
    "movie_avg_ratings = adjust_to_mean(data.drop('userId', axis=1), util_matrix.T, 'movieId').T\n",
    "grand_mean = data.loc[:, \"rating\"].mean()\n",
    "\n",
    "mean_adjusted_ratings = user_avg_ratings + movie_avg_ratings - grand_mean"
   ]
  },
  {
   "cell_type": "code",
   "execution_count": 7,
   "metadata": {},
   "outputs": [],
   "source": [
    "util_matrix_filled = util_matrix.mask(np.isnan, other=mean_adjusted_ratings)"
   ]
  },
  {
   "cell_type": "markdown",
   "metadata": {},
   "source": [
    "### Dummy classifier"
   ]
  },
  {
   "cell_type": "code",
   "execution_count": 8,
   "metadata": {},
   "outputs": [
    {
     "data": {
      "text/plain": [
       "1.0144970626490037"
      ]
     },
     "execution_count": 8,
     "metadata": {},
     "output_type": "execute_result"
    }
   ],
   "source": [
    "mean_movie_rating = X_train[\"rating\"].mean()\n",
    "dummy_prediction = np.full(X_test[\"rating\"].shape, mean_movie_rating)\n",
    "dummy_rse = mean_squared_error(X_test[\"rating\"], dummy_prediction)\n",
    "dummy_rse**(1/2)"
   ]
  },
  {
   "cell_type": "markdown",
   "metadata": {},
   "source": [
    "### Mean adjusted classifier"
   ]
  },
  {
   "cell_type": "code",
   "execution_count": 9,
   "metadata": {},
   "outputs": [],
   "source": [
    "def get_rse(prediction, test_set):\n",
    "    ratings_comparison = prediction.merge(test_set, on=[\"userId\", \"movieId\"]).loc[:, [\"rating_x\", \"rating_y\"]]\n",
    "    error = mean_squared_error(ratings_comparison[\"rating_x\"], \n",
    "                               ratings_comparison[\"rating_y\"])\n",
    "    return error ** (1/2)"
   ]
  },
  {
   "cell_type": "code",
   "execution_count": 10,
   "metadata": {},
   "outputs": [
    {
     "data": {
      "text/plain": [
       "0.7554569327506876"
      ]
     },
     "execution_count": 10,
     "metadata": {},
     "output_type": "execute_result"
    }
   ],
   "source": [
    "mean_adj_rse = get_rse(util_matrix_filled.stack(), X_test)\n",
    "mean_adj_rse"
   ]
  },
  {
   "cell_type": "markdown",
   "metadata": {},
   "source": [
    "### NMF"
   ]
  },
  {
   "cell_type": "code",
   "execution_count": 11,
   "metadata": {},
   "outputs": [],
   "source": [
    "epsilon = 10e-4\n",
    "nmf_offset = abs(np.min(util_matrix_filled.values)) + epsilon"
   ]
  },
  {
   "cell_type": "code",
   "execution_count": 12,
   "metadata": {},
   "outputs": [],
   "source": [
    "nmf_model = NMF(init='random' , random_state=0)\n",
    "\n",
    "rse_info = {}\n",
    "# n_components <= min(132, 4841)\n",
    "for n_components in range(2, 92, 10):\n",
    "    nmf_model.n_components = n_components\n",
    "    W = nmf_model.fit_transform(util_matrix_filled + nmf_offset)\n",
    "    H = nmf_model.components_\n",
    "    X_approx = np.dot(W,H) - nmf_offset\n",
    "    X_approx = pd.DataFrame(X_approx, columns=util_matrix.columns, index=util_matrix.index)\n",
    "    rse_info[n_components] = get_rse(X_approx.stack(), X_test)"
   ]
  },
  {
   "cell_type": "code",
   "execution_count": 13,
   "metadata": {},
   "outputs": [
    {
     "data": {
      "image/png": "[encoded data removed]",
      "text/plain": [
       "<Figure size 432x432 with 1 Axes>"
      ]
     },
     "metadata": {
      "needs_background": "light"
     },
     "output_type": "display_data"
    }
   ],
   "source": [
    "rse_series = pd.Series(rse_info)\n",
    "fig, ax = plt.subplots(1, 1, figsize = (6, 6))\n",
    "sns.lineplot(data=pd.Series(rse_series), label=\"line\", ax=ax)\n",
    "sns.scatterplot(data=rse_series)\n",
    "\n",
    "min_idx = rse_series.idxmin()\n",
    "min_nmf = rse_series.min()\n",
    "ax.text(min_idx+.7, min_nmf, str((min_idx, round(min_nmf, 3))))\n",
    "\n",
    "ax.legend_.remove()\n",
    "ax.set_title('Grid search for NMF')\n",
    "ax;"
   ]
  },
  {
   "cell_type": "markdown",
   "metadata": {},
   "source": [
    "## SVD"
   ]
  },
  {
   "cell_type": "code",
   "execution_count": 14,
   "metadata": {},
   "outputs": [],
   "source": [
    "svd = TruncatedSVD(random_state=42)\n",
    "\n",
    "svd_dict = {}\n",
    "for n_components in range(1, 15, 2):\n",
    "    svd.n_components = n_components\n",
    "    svd.fit(util_matrix_filled)\n",
    "    sigma = np.diag(svd.singular_values_)\n",
    "    VT = svd.components_\n",
    "    W = svd.transform(util_matrix_filled)/svd.singular_values_\n",
    "    H = np.dot(sigma ,VT)\n",
    "    svd_prediction = W @ H\n",
    "    svd_prediction = pd.DataFrame(svd_prediction, \n",
    "                                  columns=util_matrix_filled.columns, \n",
    "                                  index=util_matrix_filled.index)\n",
    "    svd_dict[n_components] = [get_rse(svd_prediction.stack(), X_test), \n",
    "                              svd.explained_variance_ratio_.sum()]"
   ]
  },
  {
   "cell_type": "code",
   "execution_count": 15,
   "metadata": {},
   "outputs": [
    {
     "data": {
      "image/png": "[encoded data removed]",
      "text/plain": [
       "<Figure size 432x432 with 1 Axes>"
      ]
     },
     "metadata": {
      "needs_background": "light"
     },
     "output_type": "display_data"
    }
   ],
   "source": [
    "svd_df = pd.DataFrame.from_dict(svd_dict)\n",
    "min_idx = svd_df.loc[0, :].idxmin()\n",
    "min_svd = svd_df.loc[0, :].min()\n",
    "\n",
    "svd_df[\"value\"] = [\"rse\", \"expl_var\"]\n",
    "svd_df.set_index(\"value\", inplace=True)\n",
    "svd_df = svd_df.T.stack().reset_index()\n",
    "svd_df.columns = [\"n_components\", \"metric\", \"value\"]\n",
    "\n",
    "fig, ax = plt.subplots(1, 1, figsize = (6, 6))\n",
    "sns.lineplot(x=\"n_components\", y=\"value\", hue=\"metric\", data=svd_df, ax=ax)\n",
    "sns.scatterplot(x=\"n_components\", y=\"value\", hue=\"metric\", data=svd_df, ax=ax, legend=False)\n",
    "\n",
    "ax.text(min_idx-1, min_svd+0.005, str((min_idx, round(min_svd, 3))))\n",
    "ax.set_title('Grid search for Truncated SVD');"
   ]
  },
  {
   "cell_type": "markdown",
   "metadata": {},
   "source": [
    "## Models comparison"
   ]
  },
  {
   "cell_type": "code",
   "execution_count": 16,
   "metadata": {},
   "outputs": [
    {
     "data": {
      "text/plain": [
       "Dummy       1.02920\n",
       "Mean Adj    0.75546\n",
       "NMF         0.75047\n",
       "SVD         0.74853\n",
       "dtype: float64"
      ]
     },
     "execution_count": 16,
     "metadata": {},
     "output_type": "execute_result"
    }
   ],
   "source": [
    "comparison = {\"Dummy\": dummy_rse, \n",
    "              \"Mean Adj\": mean_adj_rse,  \n",
    "              \"NMF\": min_nmf, \n",
    "              \"SVD\": min_svd}\n",
    "pd.Series(comparison).round(5)"
   ]
  }
 ],
 "metadata": {
  "kernelspec": {
   "display_name": "venv",
   "language": "python",
   "name": "venv"
  },
  "language_info": {
   "codemirror_mode": {
    "name": "ipython",
    "version": 3
   },
   "file_extension": ".py",
   "mimetype": "text/x-python",
   "name": "python",
   "nbconvert_exporter": "python",
   "pygments_lexer": "ipython3",
   "version": "3.5.2"
  }
 },
 "nbformat": 4,
 "nbformat_minor": 4
}
